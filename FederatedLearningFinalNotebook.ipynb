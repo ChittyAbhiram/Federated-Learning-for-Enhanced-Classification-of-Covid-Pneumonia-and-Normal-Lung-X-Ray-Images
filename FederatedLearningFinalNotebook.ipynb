{
 "cells": [
  {
   "cell_type": "code",
   "execution_count": 1,
   "id": "9abae443-6d03-4989-be2d-edfc76cf4c97",
   "metadata": {},
   "outputs": [],
   "source": [
    "import zipfile\n",
    "unzip = False\n",
    "if unzip:\n",
    "    with zipfile.ZipFile(\"Data1.zip\",\"r\") as zip_ref:\n",
    "        zip_ref.extractall(\"Data1\")"
   ]
  },
  {
   "cell_type": "code",
   "execution_count": 156,
   "id": "086cc858-bf37-46ac-8213-fdd8d3a95778",
   "metadata": {},
   "outputs": [],
   "source": [
    "person = 'Promi'"
   ]
  },
  {
   "cell_type": "code",
   "execution_count": 157,
   "id": "2557634c-6a76-42f1-a412-785568402208",
   "metadata": {},
   "outputs": [],
   "source": [
    "import os\n",
    "import pandas as pd\n",
    "import numpy as np\n",
    "from collections import Counter\n",
    "import scipy\n",
    "\n",
    "from tensorflow.keras.preprocessing.image import ImageDataGenerator\n",
    "from tensorflow.keras.applications.resnet50 import preprocess_input"
   ]
  },
  {
   "cell_type": "code",
   "execution_count": 110,
   "id": "639e4bb5-a05c-460d-b7fb-9157290037f9",
   "metadata": {},
   "outputs": [],
   "source": [
    "# !pip install --upgrade tensorflow keras"
   ]
  },
  {
   "cell_type": "code",
   "execution_count": 111,
   "id": "e0465ce0-e6dc-4940-808a-cdfe041ae8f9",
   "metadata": {},
   "outputs": [],
   "source": [
    "# !pip install scipy"
   ]
  },
  {
   "cell_type": "code",
   "execution_count": 158,
   "id": "e78879f3-5a2f-45fd-b376-e5d6edcf4187",
   "metadata": {},
   "outputs": [],
   "source": [
    "def load_data(base_dir, csv_file):\n",
    "    df = pd.read_csv(csv_file, names=['filename'], header=None)\n",
    "    df['filename'] = df['filename'].apply(lambda x: os.path.join(base_dir, x))\n",
    "    return df"
   ]
  },
  {
   "cell_type": "code",
   "execution_count": 159,
   "id": "7540c2c4-99b3-4caf-994f-4d08a5af3932",
   "metadata": {},
   "outputs": [],
   "source": [
    "base_dir_train = \"Data1/Data1/train/\"\n",
    "base_dir_test = \"Data1/Data1/test/\""
   ]
  },
  {
   "cell_type": "code",
   "execution_count": 160,
   "id": "a4ceaa55-6db7-4e90-9869-f1edc4564044",
   "metadata": {},
   "outputs": [],
   "source": [
    "covid_df = load_data(os.path.join(base_dir_train, 'COVID19'), 'covid_split_' + person + '.csv')\n",
    "normal_df = load_data(os.path.join(base_dir_train, 'NORMAL'), 'normal_split_' + person + '.csv')\n",
    "pneumonia_df = load_data(os.path.join(base_dir_train, 'PNEUMONIA'), 'PNEUMONIA_split_' + person + '.csv')"
   ]
  },
  {
   "cell_type": "code",
   "execution_count": 161,
   "id": "44f5ec16-2f3e-4f81-940d-42c2e9b94a6b",
   "metadata": {},
   "outputs": [
    {
     "data": {
      "text/plain": [
       "(147, 1)"
      ]
     },
     "execution_count": 161,
     "metadata": {},
     "output_type": "execute_result"
    }
   ],
   "source": [
    "covid_df.shape"
   ]
  },
  {
   "cell_type": "code",
   "execution_count": 162,
   "id": "92b678c7-0506-421c-a2f0-1964e0763f8a",
   "metadata": {},
   "outputs": [
    {
     "data": {
      "text/plain": [
       "(398, 1)"
      ]
     },
     "execution_count": 162,
     "metadata": {},
     "output_type": "execute_result"
    }
   ],
   "source": [
    "normal_df.shape"
   ]
  },
  {
   "cell_type": "code",
   "execution_count": 163,
   "id": "629c7c9a-138d-4b5c-9fb7-8c765c41307c",
   "metadata": {},
   "outputs": [
    {
     "data": {
      "text/plain": [
       "(1069, 1)"
      ]
     },
     "execution_count": 163,
     "metadata": {},
     "output_type": "execute_result"
    }
   ],
   "source": [
    "pneumonia_df.shape"
   ]
  },
  {
   "cell_type": "code",
   "execution_count": 164,
   "id": "3ac9a5a7-6431-4af4-ac53-209970ba1b37",
   "metadata": {},
   "outputs": [],
   "source": [
    "covid_df['label'] = 1\n",
    "normal_df['label'] = 0\n",
    "pneumonia_df['label'] = 2\n",
    "all_images_df = pd.concat([covid_df, normal_df, pneumonia_df])"
   ]
  },
  {
   "cell_type": "code",
   "execution_count": 165,
   "id": "e623bf02-e075-4347-b226-420062855654",
   "metadata": {},
   "outputs": [
    {
     "data": {
      "text/plain": [
       "(147, 1)"
      ]
     },
     "execution_count": 165,
     "metadata": {},
     "output_type": "execute_result"
    }
   ],
   "source": [
    "pd.read_csv('covid_split_' + person + '.csv', names=['filename'], header=None).shape"
   ]
  },
  {
   "cell_type": "code",
   "execution_count": 166,
   "id": "38834cdf-20ee-4f3d-94e1-92eff56eb3e3",
   "metadata": {},
   "outputs": [
    {
     "data": {
      "text/plain": [
       "(398, 1)"
      ]
     },
     "execution_count": 166,
     "metadata": {},
     "output_type": "execute_result"
    }
   ],
   "source": [
    "pd.read_csv('normal_split_' + person + '.csv', names=['filename'], header=None).shape"
   ]
  },
  {
   "cell_type": "code",
   "execution_count": 167,
   "id": "2380a102-77ca-4a33-8ebe-db8a94578ac6",
   "metadata": {},
   "outputs": [
    {
     "data": {
      "text/plain": [
       "(1069, 1)"
      ]
     },
     "execution_count": 167,
     "metadata": {},
     "output_type": "execute_result"
    }
   ],
   "source": [
    "pd.read_csv('PNEUMONIA_split_' + person + '.csv', names=['filename'], header=None).shape"
   ]
  },
  {
   "cell_type": "code",
   "execution_count": 168,
   "id": "1253af06-1c39-4ef6-ae78-9e4dfecf99b6",
   "metadata": {},
   "outputs": [
    {
     "data": {
      "text/plain": [
       "(147, 2)"
      ]
     },
     "execution_count": 168,
     "metadata": {},
     "output_type": "execute_result"
    }
   ],
   "source": [
    "covid_df.shape"
   ]
  },
  {
   "cell_type": "code",
   "execution_count": 169,
   "id": "365a47e9-0cb2-45a4-b917-f67b7ea13378",
   "metadata": {},
   "outputs": [
    {
     "data": {
      "text/html": [
       "<div>\n",
       "<style scoped>\n",
       "    .dataframe tbody tr th:only-of-type {\n",
       "        vertical-align: middle;\n",
       "    }\n",
       "\n",
       "    .dataframe tbody tr th {\n",
       "        vertical-align: top;\n",
       "    }\n",
       "\n",
       "    .dataframe thead th {\n",
       "        text-align: right;\n",
       "    }\n",
       "</style>\n",
       "<table border=\"1\" class=\"dataframe\">\n",
       "  <thead>\n",
       "    <tr style=\"text-align: right;\">\n",
       "      <th></th>\n",
       "      <th>filename</th>\n",
       "      <th>label</th>\n",
       "    </tr>\n",
       "  </thead>\n",
       "  <tbody>\n",
       "    <tr>\n",
       "      <th>0</th>\n",
       "      <td>Data1/Data1/train/COVID19/COVID19(309).jpg</td>\n",
       "      <td>1</td>\n",
       "    </tr>\n",
       "    <tr>\n",
       "      <th>1</th>\n",
       "      <td>Data1/Data1/train/COVID19/COVID19(286).jpg</td>\n",
       "      <td>1</td>\n",
       "    </tr>\n",
       "    <tr>\n",
       "      <th>2</th>\n",
       "      <td>Data1/Data1/train/COVID19/COVID19(402).jpg</td>\n",
       "      <td>1</td>\n",
       "    </tr>\n",
       "    <tr>\n",
       "      <th>3</th>\n",
       "      <td>Data1/Data1/train/COVID19/COVID19(117).jpg</td>\n",
       "      <td>1</td>\n",
       "    </tr>\n",
       "    <tr>\n",
       "      <th>4</th>\n",
       "      <td>Data1/Data1/train/COVID19/COVID19(547).jpg</td>\n",
       "      <td>1</td>\n",
       "    </tr>\n",
       "    <tr>\n",
       "      <th>...</th>\n",
       "      <td>...</td>\n",
       "      <td>...</td>\n",
       "    </tr>\n",
       "    <tr>\n",
       "      <th>1064</th>\n",
       "      <td>Data1/Data1/train/PNEUMONIA/PNEUMONIA(4091).jpg</td>\n",
       "      <td>2</td>\n",
       "    </tr>\n",
       "    <tr>\n",
       "      <th>1065</th>\n",
       "      <td>Data1/Data1/train/PNEUMONIA/PNEUMONIA(2846).jpg</td>\n",
       "      <td>2</td>\n",
       "    </tr>\n",
       "    <tr>\n",
       "      <th>1066</th>\n",
       "      <td>Data1/Data1/train/PNEUMONIA/PNEUMONIA(1293).jpg</td>\n",
       "      <td>2</td>\n",
       "    </tr>\n",
       "    <tr>\n",
       "      <th>1067</th>\n",
       "      <td>Data1/Data1/train/PNEUMONIA/PNEUMONIA(3304).jpg</td>\n",
       "      <td>2</td>\n",
       "    </tr>\n",
       "    <tr>\n",
       "      <th>1068</th>\n",
       "      <td>Data1/Data1/train/PNEUMONIA/PNEUMONIA(1339).jpg</td>\n",
       "      <td>2</td>\n",
       "    </tr>\n",
       "  </tbody>\n",
       "</table>\n",
       "<p>1614 rows × 2 columns</p>\n",
       "</div>"
      ],
      "text/plain": [
       "                                             filename  label\n",
       "0          Data1/Data1/train/COVID19/COVID19(309).jpg      1\n",
       "1          Data1/Data1/train/COVID19/COVID19(286).jpg      1\n",
       "2          Data1/Data1/train/COVID19/COVID19(402).jpg      1\n",
       "3          Data1/Data1/train/COVID19/COVID19(117).jpg      1\n",
       "4          Data1/Data1/train/COVID19/COVID19(547).jpg      1\n",
       "...                                               ...    ...\n",
       "1064  Data1/Data1/train/PNEUMONIA/PNEUMONIA(4091).jpg      2\n",
       "1065  Data1/Data1/train/PNEUMONIA/PNEUMONIA(2846).jpg      2\n",
       "1066  Data1/Data1/train/PNEUMONIA/PNEUMONIA(1293).jpg      2\n",
       "1067  Data1/Data1/train/PNEUMONIA/PNEUMONIA(3304).jpg      2\n",
       "1068  Data1/Data1/train/PNEUMONIA/PNEUMONIA(1339).jpg      2\n",
       "\n",
       "[1614 rows x 2 columns]"
      ]
     },
     "execution_count": 169,
     "metadata": {},
     "output_type": "execute_result"
    }
   ],
   "source": [
    "all_images_df"
   ]
  },
  {
   "cell_type": "code",
   "execution_count": 170,
   "id": "d61632c0-d4e3-4a11-8427-280f32d8e134",
   "metadata": {},
   "outputs": [
    {
     "data": {
      "text/plain": [
       "label\n",
       "2    1069\n",
       "0     398\n",
       "1     147\n",
       "Name: count, dtype: int64"
      ]
     },
     "execution_count": 170,
     "metadata": {},
     "output_type": "execute_result"
    }
   ],
   "source": [
    "all_images_df.label.value_counts()"
   ]
  },
  {
   "cell_type": "code",
   "execution_count": 171,
   "id": "987724a0-7a80-462f-a70c-b6f32cb1a9d5",
   "metadata": {},
   "outputs": [],
   "source": [
    "shuffled_df = all_images_df.sample(frac=1, random_state=42).reset_index(drop=True)"
   ]
  },
  {
   "cell_type": "code",
   "execution_count": 172,
   "id": "19403dbf-a94f-4263-b19b-7c863d386115",
   "metadata": {},
   "outputs": [],
   "source": [
    "datagen = ImageDataGenerator(preprocessing_function=preprocess_input, validation_split=0.3)\n"
   ]
  },
  {
   "cell_type": "code",
   "execution_count": 173,
   "id": "d39f7107-a6b0-4e79-96d8-6a7fb599e412",
   "metadata": {},
   "outputs": [
    {
     "name": "stdout",
     "output_type": "stream",
     "text": [
      "Found 908 validated image filenames.\n"
     ]
    },
    {
     "name": "stderr",
     "output_type": "stream",
     "text": [
      "/mnt/cgreski/.local/lib/python3.10/site-packages/keras/src/legacy/preprocessing/image.py:920: UserWarning: Found 317 invalid image filename(s) in x_col=\"filename\". These filename(s) will be ignored.\n",
      "  warnings.warn(\n"
     ]
    }
   ],
   "source": [
    "train_generator = datagen.flow_from_dataframe(\n",
    "    dataframe=shuffled_df,\n",
    "    x_col='filename',\n",
    "    y_col='label',\n",
    "    subset='training',\n",
    "    batch_size=64,\n",
    "    seed=30144,\n",
    "    shuffle=True,\n",
    "    class_mode='raw',\n",
    "    target_size=(224, 224))"
   ]
  },
  {
   "cell_type": "code",
   "execution_count": 174,
   "id": "219eb6b5-cccc-4ecf-812c-960869770a5c",
   "metadata": {},
   "outputs": [
    {
     "data": {
      "text/plain": [
       "Counter({2: 603, 0: 215, 1: 90})"
      ]
     },
     "execution_count": 174,
     "metadata": {},
     "output_type": "execute_result"
    }
   ],
   "source": [
    "Counter(train_generator.labels)"
   ]
  },
  {
   "cell_type": "code",
   "execution_count": 175,
   "id": "9216888a-12b3-44a0-8e81-998e9a7482ca",
   "metadata": {},
   "outputs": [
    {
     "name": "stdout",
     "output_type": "stream",
     "text": [
      "Found 389 validated image filenames.\n"
     ]
    }
   ],
   "source": [
    "validation_generator = datagen.flow_from_dataframe(\n",
    "    dataframe=shuffled_df,\n",
    "    x_col='filename',\n",
    "    y_col='label',\n",
    "    subset='validation',\n",
    "    batch_size=64,\n",
    "    seed=30144,\n",
    "    shuffle=True,\n",
    "    class_mode='raw',\n",
    "    target_size=(224, 224))"
   ]
  },
  {
   "cell_type": "code",
   "execution_count": 176,
   "id": "fa382bcc-d78c-4254-bb42-81f33bf78d95",
   "metadata": {},
   "outputs": [
    {
     "data": {
      "text/plain": [
       "Counter({2: 247, 0: 110, 1: 32})"
      ]
     },
     "execution_count": 176,
     "metadata": {},
     "output_type": "execute_result"
    }
   ],
   "source": [
    "Counter(validation_generator.labels)"
   ]
  },
  {
   "cell_type": "code",
   "execution_count": 247,
   "id": "fdac045b-24c1-41d9-86e2-6cfbb45b3cd0",
   "metadata": {},
   "outputs": [],
   "source": [
    "from tensorflow.keras.applications import ResNet50\n",
    "from tensorflow.keras.layers import Dense, GlobalAveragePooling2D\n",
    "from tensorflow.keras.models import Model\n",
    "from tensorflow.keras.optimizers import Adam"
   ]
  },
  {
   "cell_type": "code",
   "execution_count": 254,
   "id": "cb947797-341b-41e8-8638-b7320eab862b",
   "metadata": {},
   "outputs": [],
   "source": [
    "base_model = ResNet50(weights='imagenet', include_top=False)"
   ]
  },
  {
   "cell_type": "code",
   "execution_count": 257,
   "id": "eaacb482-b9a8-4b5f-b1ae-6eaed2de2da5",
   "metadata": {},
   "outputs": [],
   "source": [
    "x = base_model.output\n",
    "x = GlobalAveragePooling2D()(x)\n",
    "x = Dense(1024, activation='relu')(x)\n",
    "predictions = Dense(3, activation='softmax')(x)"
   ]
  },
  {
   "cell_type": "code",
   "execution_count": 180,
   "id": "bfbd1c6f-7453-4b59-9684-a8025e375fb1",
   "metadata": {},
   "outputs": [],
   "source": [
    "model = Model(inputs=base_model.input, outputs=predictions)"
   ]
  },
  {
   "cell_type": "code",
   "execution_count": 181,
   "id": "15a618ca-a7ca-4479-af8b-1e13ce62c4a8",
   "metadata": {},
   "outputs": [],
   "source": [
    "for layer in base_model.layers:\n",
    "    layer.trainable = False"
   ]
  },
  {
   "cell_type": "code",
   "execution_count": 182,
   "id": "c0a32be6-5fc9-4fb0-921e-20ed89059f3b",
   "metadata": {},
   "outputs": [],
   "source": [
    "model.compile(optimizer=Adam(learning_rate=0.0001), loss='sparse_categorical_crossentropy', metrics=['accuracy'])"
   ]
  },
  {
   "cell_type": "code",
   "execution_count": 183,
   "id": "8d742b1f-70f7-4733-a81d-eb0709e6f96a",
   "metadata": {},
   "outputs": [
    {
     "name": "stdout",
     "output_type": "stream",
     "text": [
      "Epoch 1/10\n"
     ]
    },
    {
     "name": "stderr",
     "output_type": "stream",
     "text": [
      "/mnt/cgreski/.local/lib/python3.10/site-packages/keras/src/trainers/data_adapters/py_dataset_adapter.py:120: UserWarning: Your `PyDataset` class should call `super().__init__(**kwargs)` in its constructor. `**kwargs` can include `workers`, `use_multiprocessing`, `max_queue_size`. Do not pass these arguments to `fit()`, as they will be ignored.\n",
      "  self._warn_if_super_not_called()\n"
     ]
    },
    {
     "name": "stdout",
     "output_type": "stream",
     "text": [
      "\u001b[1m15/15\u001b[0m \u001b[32m━━━━━━━━━━━━━━━━━━━━\u001b[0m\u001b[37m\u001b[0m \u001b[1m53s\u001b[0m 3s/step - accuracy: 0.6026 - loss: 0.8954 - val_accuracy: 0.8946 - val_loss: 0.2842\n",
      "Epoch 2/10\n",
      "\u001b[1m15/15\u001b[0m \u001b[32m━━━━━━━━━━━━━━━━━━━━\u001b[0m\u001b[37m\u001b[0m \u001b[1m79s\u001b[0m 3s/step - accuracy: 0.9148 - loss: 0.2411 - val_accuracy: 0.9152 - val_loss: 0.2217\n",
      "Epoch 3/10\n",
      "\u001b[1m15/15\u001b[0m \u001b[32m━━━━━━━━━━━━━━━━━━━━\u001b[0m\u001b[37m\u001b[0m \u001b[1m43s\u001b[0m 3s/step - accuracy: 0.9366 - loss: 0.1583 - val_accuracy: 0.9203 - val_loss: 0.2257\n",
      "Epoch 4/10\n",
      "\u001b[1m15/15\u001b[0m \u001b[32m━━━━━━━━━━━━━━━━━━━━\u001b[0m\u001b[37m\u001b[0m \u001b[1m83s\u001b[0m 3s/step - accuracy: 0.9418 - loss: 0.1345 - val_accuracy: 0.9332 - val_loss: 0.1912\n",
      "Epoch 5/10\n",
      "\u001b[1m15/15\u001b[0m \u001b[32m━━━━━━━━━━━━━━━━━━━━\u001b[0m\u001b[37m\u001b[0m \u001b[1m43s\u001b[0m 3s/step - accuracy: 0.9607 - loss: 0.1235 - val_accuracy: 0.9383 - val_loss: 0.1638\n",
      "Epoch 6/10\n",
      "\u001b[1m15/15\u001b[0m \u001b[32m━━━━━━━━━━━━━━━━━━━━\u001b[0m\u001b[37m\u001b[0m \u001b[1m43s\u001b[0m 3s/step - accuracy: 0.9689 - loss: 0.0983 - val_accuracy: 0.9383 - val_loss: 0.1721\n",
      "Epoch 7/10\n",
      "\u001b[1m15/15\u001b[0m \u001b[32m━━━━━━━━━━━━━━━━━━━━\u001b[0m\u001b[37m\u001b[0m \u001b[1m44s\u001b[0m 3s/step - accuracy: 0.9680 - loss: 0.0988 - val_accuracy: 0.9306 - val_loss: 0.1775\n",
      "Epoch 8/10\n",
      "\u001b[1m15/15\u001b[0m \u001b[32m━━━━━━━━━━━━━━━━━━━━\u001b[0m\u001b[37m\u001b[0m \u001b[1m43s\u001b[0m 3s/step - accuracy: 0.9752 - loss: 0.0905 - val_accuracy: 0.9460 - val_loss: 0.1572\n",
      "Epoch 9/10\n",
      "\u001b[1m15/15\u001b[0m \u001b[32m━━━━━━━━━━━━━━━━━━━━\u001b[0m\u001b[37m\u001b[0m \u001b[1m44s\u001b[0m 3s/step - accuracy: 0.9730 - loss: 0.0872 - val_accuracy: 0.9460 - val_loss: 0.1431\n",
      "Epoch 10/10\n",
      "\u001b[1m15/15\u001b[0m \u001b[32m━━━━━━━━━━━━━━━━━━━━\u001b[0m\u001b[37m\u001b[0m \u001b[1m44s\u001b[0m 3s/step - accuracy: 0.9845 - loss: 0.0668 - val_accuracy: 0.9486 - val_loss: 0.1290\n"
     ]
    }
   ],
   "source": [
    "history = model.fit(\n",
    "    train_generator,\n",
    "    epochs=10,\n",
    "    validation_data=validation_generator)"
   ]
  },
  {
   "cell_type": "markdown",
   "id": "7e120f56-b26d-49f8-9e84-6fd750430f51",
   "metadata": {},
   "source": [
    "## Testing"
   ]
  },
  {
   "cell_type": "code",
   "execution_count": 184,
   "id": "f55b984a-93e5-4fb2-86c9-71baeecf6b8b",
   "metadata": {},
   "outputs": [],
   "source": [
    "def load_test_data(base_dir, csv_file):\n",
    "    df = pd.read_csv(csv_file, names=['filename'], header=None)\n",
    "    df['filename'] = df['filename'].apply(lambda x: os.path.join(base_dir, x))\n",
    "    return df"
   ]
  },
  {
   "cell_type": "code",
   "execution_count": 205,
   "id": "7d0d8fb9-9eaa-4fd9-85e3-269ea2137587",
   "metadata": {},
   "outputs": [],
   "source": [
    "covid_df_test = load_data(os.path.join(base_dir_test, 'COVID19'), 'COVID19_files.csv')\n",
    "normal_df_test = load_data(os.path.join(base_dir_test, 'NORMAL'), 'NORMAL_files.csv')\n",
    "pneumonia_df_test = load_data(os.path.join(base_dir_test, 'PNEUMONIA'), 'PNEUMONIA_files.csv')\n",
    "\n",
    "# covid_df_test = load_data(os.path.join(base_dir_test, 'COVID19'), 'covid_split_' + person + '.csv')\n",
    "# normal_df_test = load_data(os.path.join(base_dir_test, 'NORMAL'), 'normal_split_' + person + '.csv')\n",
    "# pneumonia_df_test = load_data(os.path.join(base_dir_test, 'PNEUMONIA'), 'PNEUMONIA_split_' + person + '.csv')"
   ]
  },
  {
   "cell_type": "code",
   "execution_count": 206,
   "id": "902513bb-0fa9-4344-9e85-8757ed5dc1c5",
   "metadata": {},
   "outputs": [
    {
     "data": {
      "text/plain": [
       "(116, 1)"
      ]
     },
     "execution_count": 206,
     "metadata": {},
     "output_type": "execute_result"
    }
   ],
   "source": [
    "covid_df_test.shape"
   ]
  },
  {
   "cell_type": "code",
   "execution_count": 207,
   "id": "7e3706c4-dbc7-441c-9408-a0f101771856",
   "metadata": {},
   "outputs": [
    {
     "data": {
      "text/plain": [
       "(317, 1)"
      ]
     },
     "execution_count": 207,
     "metadata": {},
     "output_type": "execute_result"
    }
   ],
   "source": [
    "normal_df_test.shape"
   ]
  },
  {
   "cell_type": "code",
   "execution_count": 208,
   "id": "e914cb98-77c4-48d4-b729-2309e033df0c",
   "metadata": {},
   "outputs": [
    {
     "data": {
      "text/plain": [
       "(855, 1)"
      ]
     },
     "execution_count": 208,
     "metadata": {},
     "output_type": "execute_result"
    }
   ],
   "source": [
    "pneumonia_df_test.shape"
   ]
  },
  {
   "cell_type": "code",
   "execution_count": 209,
   "id": "2c69708f-b41c-4500-a33a-0f307bfd068e",
   "metadata": {},
   "outputs": [],
   "source": [
    "covid_df_test['label'] = 1\n",
    "normal_df_test['label'] = 0\n",
    "pneumonia_df_test['label'] = 2"
   ]
  },
  {
   "cell_type": "code",
   "execution_count": 210,
   "id": "af9452c6-00b6-4a8b-ad9f-d5d9ee8e0d73",
   "metadata": {},
   "outputs": [
    {
     "data": {
      "text/plain": [
       "(855, 2)"
      ]
     },
     "execution_count": 210,
     "metadata": {},
     "output_type": "execute_result"
    }
   ],
   "source": [
    "pneumonia_df_test.shape"
   ]
  },
  {
   "cell_type": "code",
   "execution_count": 211,
   "id": "c81e5bd7-217e-460d-8efe-41183e3d0e5e",
   "metadata": {},
   "outputs": [
    {
     "data": {
      "text/plain": [
       "(317, 2)"
      ]
     },
     "execution_count": 211,
     "metadata": {},
     "output_type": "execute_result"
    }
   ],
   "source": [
    "normal_df_test.shape"
   ]
  },
  {
   "cell_type": "code",
   "execution_count": 212,
   "id": "33421c29-04ab-4c21-9663-e75e0aa135dc",
   "metadata": {},
   "outputs": [
    {
     "data": {
      "text/plain": [
       "(116, 2)"
      ]
     },
     "execution_count": 212,
     "metadata": {},
     "output_type": "execute_result"
    }
   ],
   "source": [
    "covid_df_test.shape"
   ]
  },
  {
   "cell_type": "code",
   "execution_count": 213,
   "id": "b9d24ecb-47a2-4923-ab65-cae14f537560",
   "metadata": {},
   "outputs": [],
   "source": [
    "test_images = pd.concat([covid_df_test, normal_df_test, pneumonia_df_test])"
   ]
  },
  {
   "cell_type": "code",
   "execution_count": 214,
   "id": "0bb126a9-01ef-47c8-aaa8-843eb3e7794d",
   "metadata": {},
   "outputs": [
    {
     "data": {
      "text/plain": [
       "(1288, 2)"
      ]
     },
     "execution_count": 214,
     "metadata": {},
     "output_type": "execute_result"
    }
   ],
   "source": [
    "test_images.shape"
   ]
  },
  {
   "cell_type": "code",
   "execution_count": 215,
   "id": "5622a73b-2072-421f-9a07-3b2f2bd8bd99",
   "metadata": {},
   "outputs": [
    {
     "data": {
      "text/html": [
       "<div>\n",
       "<style scoped>\n",
       "    .dataframe tbody tr th:only-of-type {\n",
       "        vertical-align: middle;\n",
       "    }\n",
       "\n",
       "    .dataframe tbody tr th {\n",
       "        vertical-align: top;\n",
       "    }\n",
       "\n",
       "    .dataframe thead th {\n",
       "        text-align: right;\n",
       "    }\n",
       "</style>\n",
       "<table border=\"1\" class=\"dataframe\">\n",
       "  <thead>\n",
       "    <tr style=\"text-align: right;\">\n",
       "      <th></th>\n",
       "      <th>filename</th>\n",
       "      <th>label</th>\n",
       "    </tr>\n",
       "  </thead>\n",
       "  <tbody>\n",
       "    <tr>\n",
       "      <th>0</th>\n",
       "      <td>Data1/Data1/test/COVID19/COVID19(470).jpg</td>\n",
       "      <td>1</td>\n",
       "    </tr>\n",
       "    <tr>\n",
       "      <th>1</th>\n",
       "      <td>Data1/Data1/test/COVID19/COVID19(535).jpg</td>\n",
       "      <td>1</td>\n",
       "    </tr>\n",
       "    <tr>\n",
       "      <th>2</th>\n",
       "      <td>Data1/Data1/test/COVID19/COVID19(562).jpg</td>\n",
       "      <td>1</td>\n",
       "    </tr>\n",
       "    <tr>\n",
       "      <th>3</th>\n",
       "      <td>Data1/Data1/test/COVID19/COVID19(574).jpg</td>\n",
       "      <td>1</td>\n",
       "    </tr>\n",
       "    <tr>\n",
       "      <th>4</th>\n",
       "      <td>Data1/Data1/test/COVID19/COVID19(466).jpg</td>\n",
       "      <td>1</td>\n",
       "    </tr>\n",
       "  </tbody>\n",
       "</table>\n",
       "</div>"
      ],
      "text/plain": [
       "                                    filename  label\n",
       "0  Data1/Data1/test/COVID19/COVID19(470).jpg      1\n",
       "1  Data1/Data1/test/COVID19/COVID19(535).jpg      1\n",
       "2  Data1/Data1/test/COVID19/COVID19(562).jpg      1\n",
       "3  Data1/Data1/test/COVID19/COVID19(574).jpg      1\n",
       "4  Data1/Data1/test/COVID19/COVID19(466).jpg      1"
      ]
     },
     "execution_count": 215,
     "metadata": {},
     "output_type": "execute_result"
    }
   ],
   "source": [
    "test_images.head()"
   ]
  },
  {
   "cell_type": "code",
   "execution_count": 216,
   "id": "03d763da-d39d-4075-8e0a-21b97a3dea51",
   "metadata": {},
   "outputs": [
    {
     "data": {
      "text/plain": [
       "label\n",
       "2    855\n",
       "0    317\n",
       "1    116\n",
       "Name: count, dtype: int64"
      ]
     },
     "execution_count": 216,
     "metadata": {},
     "output_type": "execute_result"
    }
   ],
   "source": [
    "test_images['label'].value_counts()"
   ]
  },
  {
   "cell_type": "code",
   "execution_count": 217,
   "id": "039c155b-fe87-4406-b52c-506daafd588f",
   "metadata": {},
   "outputs": [],
   "source": [
    "test_datagen = ImageDataGenerator(preprocessing_function=preprocess_input)"
   ]
  },
  {
   "cell_type": "code",
   "execution_count": 218,
   "id": "be3863e2-aa53-4712-a4ac-2659cc0bb145",
   "metadata": {},
   "outputs": [
    {
     "name": "stdout",
     "output_type": "stream",
     "text": [
      "Found 1288 validated image filenames.\n"
     ]
    }
   ],
   "source": [
    "test_generator = datagen.flow_from_dataframe(\n",
    "    dataframe=test_images,\n",
    "    x_col='filename',\n",
    "    y_col='label',\n",
    "    batch_size=64,\n",
    "    seed=30144,\n",
    "    shuffle=False,\n",
    "    class_mode='raw',\n",
    "    target_size=(224, 224))"
   ]
  },
  {
   "cell_type": "code",
   "execution_count": 219,
   "id": "80bbf677-91c4-40ea-9a29-d10a4a227011",
   "metadata": {},
   "outputs": [
    {
     "data": {
      "text/plain": [
       "Counter({2: 855, 0: 317, 1: 116})"
      ]
     },
     "execution_count": 219,
     "metadata": {},
     "output_type": "execute_result"
    }
   ],
   "source": [
    "Counter(test_generator.labels)"
   ]
  },
  {
   "cell_type": "code",
   "execution_count": 238,
   "id": "1a2a9cf1-b090-4a93-9d48-f818d70d2ce5",
   "metadata": {},
   "outputs": [
    {
     "name": "stdout",
     "output_type": "stream",
     "text": [
      "\u001b[1m21/21\u001b[0m \u001b[32m━━━━━━━━━━━━━━━━━━━━\u001b[0m\u001b[37m\u001b[0m \u001b[1m43s\u001b[0m 2s/step - accuracy: 0.9544 - loss: 0.1266\n",
      "Test Loss: 0.13496747612953186, Test Accuracy: 0.9510869383811951\n"
     ]
    }
   ],
   "source": [
    "results = cmodel.evaluate(test_generator)\n",
    "print(f\"Test Loss: {results[0]}, Test Accuracy: {results[1]}\")"
   ]
  },
  {
   "cell_type": "code",
   "execution_count": 201,
   "id": "c2a3d39c-00fe-43e2-b124-b22daeee28a6",
   "metadata": {},
   "outputs": [
    {
     "name": "stderr",
     "output_type": "stream",
     "text": [
      "WARNING:absl:You are saving your model as an HDF5 file via `model.save()` or `keras.saving.save_model(model)`. This file format is considered legacy. We recommend using instead the native Keras format, e.g. `model.save('my_model.keras')` or `keras.saving.save_model(model, 'my_model.keras')`. \n"
     ]
    }
   ],
   "source": [
    "model.save(person+'_model1.h5')"
   ]
  },
  {
   "cell_type": "code",
   "execution_count": 251,
   "id": "3f17bea5-5010-48e3-8b51-4985beb3b0f9",
   "metadata": {},
   "outputs": [
    {
     "name": "stderr",
     "output_type": "stream",
     "text": [
      "WARNING:absl:Compiled the loaded model, but the compiled metrics have yet to be built. `model.compile_metrics` will be empty until you train or evaluate the model.\n",
      "WARNING:absl:Compiled the loaded model, but the compiled metrics have yet to be built. `model.compile_metrics` will be empty until you train or evaluate the model.\n",
      "WARNING:absl:Compiled the loaded model, but the compiled metrics have yet to be built. `model.compile_metrics` will be empty until you train or evaluate the model.\n",
      "WARNING:absl:Compiled the loaded model, but the compiled metrics have yet to be built. `model.compile_metrics` will be empty until you train or evaluate the model.\n"
     ]
    }
   ],
   "source": [
    "import tensorflow as tf\n",
    "kmodel = tf.keras.models.load_model('Kausar_model1.h5')\n",
    "pmodel = tf.keras.models.load_model('Promi_model1.h5')\n",
    "amodel = tf.keras.models.load_model('Abhiram_model1.h5')\n",
    "cmodel = tf.keras.models.load_model('Caleb_model.h5')"
   ]
  },
  {
   "cell_type": "code",
   "execution_count": 252,
   "id": "9d7be878-5732-4e3f-8da6-fdbc6a3d49df",
   "metadata": {},
   "outputs": [],
   "source": [
    "kweights = kmodel.get_weights()\n",
    "pweights = pmodel.get_weights()\n",
    "aweights = amodel.get_weights()\n",
    "cweights = cmodel.get_weights()"
   ]
  },
  {
   "cell_type": "code",
   "execution_count": 23,
   "id": "4b87c964-072b-4b84-a1e7-d33965801ba8",
   "metadata": {},
   "outputs": [],
   "source": [
    "# kweights"
   ]
  },
  {
   "cell_type": "code",
   "execution_count": 37,
   "id": "5865d465-6465-47b0-a4b0-2fea2b29e396",
   "metadata": {},
   "outputs": [],
   "source": [
    "# cweights"
   ]
  },
  {
   "cell_type": "code",
   "execution_count": 253,
   "id": "3248a6a2-32a6-40b3-9864-3b4438b70bbf",
   "metadata": {},
   "outputs": [],
   "source": [
    "global_weights = [sum(x)/4 for x in zip(kweights, cweights, aweights, pweights)]"
   ]
  },
  {
   "cell_type": "code",
   "execution_count": 266,
   "id": "373770d1-69a6-4ae4-8cd9-f2aaef50ef42",
   "metadata": {},
   "outputs": [],
   "source": [
    "global_model = Model(inputs=base_model.input, outputs=predictions)"
   ]
  },
  {
   "cell_type": "code",
   "execution_count": 267,
   "id": "3c879ba7-df9e-46ee-95f6-4c7345237763",
   "metadata": {},
   "outputs": [],
   "source": [
    "global_model.compile(optimizer=Adam(learning_rate=0.0001), loss='sparse_categorical_crossentropy', metrics=['accuracy'])"
   ]
  },
  {
   "cell_type": "code",
   "execution_count": 268,
   "id": "68e90837-9f82-4a6c-80f3-1e27b2c4aa99",
   "metadata": {},
   "outputs": [],
   "source": [
    "global_model.set_weights(global_weights)"
   ]
  },
  {
   "cell_type": "code",
   "execution_count": 269,
   "id": "7a1cec9a-a4e1-48ac-a180-094b89de6800",
   "metadata": {},
   "outputs": [
    {
     "name": "stdout",
     "output_type": "stream",
     "text": [
      "\u001b[1m21/21\u001b[0m \u001b[32m━━━━━━━━━━━━━━━━━━━━\u001b[0m\u001b[37m\u001b[0m \u001b[1m43s\u001b[0m 2s/step - accuracy: 0.6412 - loss: 0.7175\n",
      "Test Loss: 0.5449909567832947, Test Accuracy: 0.774068295955658\n"
     ]
    }
   ],
   "source": [
    "results = global_model.evaluate(test_generator)\n",
    "print(f\"Test Loss: {results[0]}, Test Accuracy: {results[1]}\")"
   ]
  },
  {
   "cell_type": "code",
   "execution_count": 47,
   "id": "722a37c4-7971-4a4b-b183-a8d7dd5dda4b",
   "metadata": {},
   "outputs": [
    {
     "name": "stdout",
     "output_type": "stream",
     "text": [
      "Defaulting to user installation because normal site-packages is not writeable\n",
      "Collecting scikit-learn\n",
      "  Downloading scikit_learn-1.4.2-cp310-cp310-manylinux_2_17_x86_64.manylinux2014_x86_64.whl (12.1 MB)\n",
      "\u001b[2K     \u001b[90m━━━━━━━━━━━━━━━━━━━━━━━━━━━━━━━━━━━━━━━━\u001b[0m \u001b[32m12.1/12.1 MB\u001b[0m \u001b[31m45.2 MB/s\u001b[0m eta \u001b[36m0:00:00\u001b[0m00:01\u001b[0m00:01\u001b[0m\n",
      "\u001b[?25hCollecting joblib>=1.2.0\n",
      "  Downloading joblib-1.4.0-py3-none-any.whl (301 kB)\n",
      "\u001b[2K     \u001b[90m━━━━━━━━━━━━━━━━━━━━━━━━━━━━━━━━━━━━━━\u001b[0m \u001b[32m301.2/301.2 KB\u001b[0m \u001b[31m40.3 MB/s\u001b[0m eta \u001b[36m0:00:00\u001b[0m\n",
      "\u001b[?25hRequirement already satisfied: scipy>=1.6.0 in /mnt/cgreski/.local/lib/python3.10/site-packages (from scikit-learn) (1.13.0)\n",
      "Requirement already satisfied: numpy>=1.19.5 in /mnt/cgreski/.local/lib/python3.10/site-packages (from scikit-learn) (1.26.4)\n",
      "Collecting threadpoolctl>=2.0.0\n",
      "  Downloading threadpoolctl-3.4.0-py3-none-any.whl (17 kB)\n",
      "Installing collected packages: threadpoolctl, joblib, scikit-learn\n",
      "Successfully installed joblib-1.4.0 scikit-learn-1.4.2 threadpoolctl-3.4.0\n"
     ]
    }
   ],
   "source": [
    "!pip install scikit-learn"
   ]
  },
  {
   "cell_type": "code",
   "execution_count": 227,
   "id": "3f254686-ff48-4e4e-aef5-6396ca64b2c5",
   "metadata": {},
   "outputs": [],
   "source": [
    "from sklearn.metrics import confusion_matrix, classification_report, accuracy_score"
   ]
  },
  {
   "cell_type": "code",
   "execution_count": 152,
   "id": "88944835-7745-442d-9c0b-84fbd9fe141e",
   "metadata": {},
   "outputs": [
    {
     "name": "stderr",
     "output_type": "stream",
     "text": [
      "WARNING:absl:You are saving your model as an HDF5 file via `model.save()` or `keras.saving.save_model(model)`. This file format is considered legacy. We recommend using instead the native Keras format, e.g. `model.save('my_model.keras')` or `keras.saving.save_model(model, 'my_model.keras')`. \n"
     ]
    }
   ],
   "source": [
    "global_model.save('global_model.h5')"
   ]
  },
  {
   "cell_type": "code",
   "execution_count": 271,
   "id": "dcc37484-4f8b-4b54-beb8-b793cb0ffe65",
   "metadata": {},
   "outputs": [],
   "source": [
    "true_labels = test_generator.labels"
   ]
  },
  {
   "cell_type": "code",
   "execution_count": 272,
   "id": "b6ae8925-97fc-4fee-aa92-88d0ea66f399",
   "metadata": {},
   "outputs": [
    {
     "name": "stdout",
     "output_type": "stream",
     "text": [
      "\u001b[1m21/21\u001b[0m \u001b[32m━━━━━━━━━━━━━━━━━━━━\u001b[0m\u001b[37m\u001b[0m \u001b[1m40s\u001b[0m 2s/step\n"
     ]
    }
   ],
   "source": [
    "predictions = model.predict(test_generator)\n",
    "predicted_labels = predictions.argmax(axis=1)"
   ]
  },
  {
   "cell_type": "code",
   "execution_count": 118,
   "id": "8a8a3eee-06e6-4284-8c34-f69986a41c6f",
   "metadata": {},
   "outputs": [
    {
     "data": {
      "text/plain": [
       "<enumerate at 0x7f1049938480>"
      ]
     },
     "execution_count": 118,
     "metadata": {},
     "output_type": "execute_result"
    }
   ],
   "source": [
    "enumerate(true_labels)"
   ]
  },
  {
   "cell_type": "code",
   "execution_count": 119,
   "id": "cbdc9b29-b9e1-45a0-a9ff-c3e4d3782a1a",
   "metadata": {},
   "outputs": [
    {
     "data": {
      "text/plain": [
       "array([2, 2, 2, ..., 2, 2, 2])"
      ]
     },
     "execution_count": 119,
     "metadata": {},
     "output_type": "execute_result"
    }
   ],
   "source": [
    "predicted_labels"
   ]
  },
  {
   "cell_type": "code",
   "execution_count": 231,
   "id": "674de398-2988-4b3c-a1b4-557d6c7234e6",
   "metadata": {},
   "outputs": [
    {
     "name": "stdout",
     "output_type": "stream",
     "text": [
      "Confusion Matrix:\n",
      "[[ 28   9 280]\n",
      " [  0 114   2]\n",
      " [  0   0 855]]\n"
     ]
    }
   ],
   "source": [
    "conf_matrix = confusion_matrix(true_labels, predicted_labels)\n",
    "print(\"Confusion Matrix:\")\n",
    "print(conf_matrix)"
   ]
  },
  {
   "cell_type": "code",
   "execution_count": 232,
   "id": "cec1e2cb-0dd0-47cc-bd97-a1b9b7a4fdd6",
   "metadata": {},
   "outputs": [
    {
     "name": "stdout",
     "output_type": "stream",
     "text": [
      "Accuracy: 0.77\n"
     ]
    }
   ],
   "source": [
    "accuracy = accuracy_score(true_labels, predicted_labels)\n",
    "print(f\"Accuracy: {accuracy:.2f}\")"
   ]
  },
  {
   "cell_type": "code",
   "execution_count": 233,
   "id": "1503706d-d3e3-4894-b07a-8a66fba2a3b9",
   "metadata": {},
   "outputs": [
    {
     "data": {
      "text/plain": [
       "Counter({2: 855, 0: 317, 1: 116})"
      ]
     },
     "execution_count": 233,
     "metadata": {},
     "output_type": "execute_result"
    }
   ],
   "source": [
    "from collections import Counter\n",
    "\n",
    "Counter(true_labels)"
   ]
  },
  {
   "cell_type": "code",
   "execution_count": 126,
   "id": "d5b337b3-d134-42e1-ac13-127426c20d47",
   "metadata": {},
   "outputs": [
    {
     "data": {
      "text/plain": [
       "Counter({2: 1254, 0: 34})"
      ]
     },
     "execution_count": 126,
     "metadata": {},
     "output_type": "execute_result"
    }
   ],
   "source": [
    "Counter(predicted_labels)"
   ]
  },
  {
   "cell_type": "code",
   "execution_count": 273,
   "id": "b303c87f-82ff-4206-bb82-5e819d006ad5",
   "metadata": {},
   "outputs": [
    {
     "name": "stdout",
     "output_type": "stream",
     "text": [
      "Classification Report:\n",
      "              precision    recall  f1-score   support\n",
      "\n",
      "      Normal       1.00      0.09      0.16       317\n",
      "       COVID       0.93      0.98      0.95       116\n",
      "   Pneumonia       0.75      1.00      0.86       855\n",
      "\n",
      "    accuracy                           0.77      1288\n",
      "   macro avg       0.89      0.69      0.66      1288\n",
      "weighted avg       0.83      0.77      0.70      1288\n",
      "\n"
     ]
    }
   ],
   "source": [
    "class_report = classification_report(true_labels, predicted_labels, target_names=['Normal', 'COVID', 'Pneumonia'],\n",
    "    zero_division=0)\n",
    "print(\"Classification Report:\")\n",
    "print(class_report)"
   ]
  },
  {
   "cell_type": "code",
   "execution_count": 275,
   "id": "13daa986-6815-4ef2-a705-41e5010bb8fc",
   "metadata": {},
   "outputs": [
    {
     "data": {
      "image/png": "[encoded data removed]",
      "text/plain": [
       "<Figure size 800x600 with 2 Axes>"
      ]
     },
     "metadata": {},
     "output_type": "display_data"
    }
   ],
   "source": [
    "import matplotlib.pyplot as plt\n",
    "import seaborn as sns\n",
    "import numpy as np\n",
    "\n",
    "conf_matrix = confusion_matrix(true_labels, predicted_labels)\n",
    "\n",
    "\n",
    "class_labels = ['Normal', 'COVID', 'Pneumonia']\n",
    "\n",
    "plt.figure(figsize=(8, 6))\n",
    "sns.heatmap(conf_matrix, annot=True, fmt=\"d\", cmap='Blues', xticklabels=class_labels, yticklabels=class_labels)\n",
    "\n",
    "\n",
    "plt.title('Confusion Matrix')\n",
    "plt.ylabel('Actual Classes')\n",
    "plt.xlabel('Predicted Classes')\n",
    "\n",
    "plt.show()"
   ]
  },
  {
   "cell_type": "code",
   "execution_count": 274,
   "id": "1ef3e6a6-9c86-4c51-93df-8172ef252bec",
   "metadata": {},
   "outputs": [
    {
     "name": "stdout",
     "output_type": "stream",
     "text": [
      "Defaulting to user installation because normal site-packages is not writeable\n",
      "Collecting seaborn\n",
      "  Downloading seaborn-0.13.2-py3-none-any.whl (294 kB)\n",
      "\u001b[2K     \u001b[90m━━━━━━━━━━━━━━━━━━━━━━━━━━━━━━━━━━━━━━━\u001b[0m \u001b[32m294.9/294.9 KB\u001b[0m \u001b[31m3.1 MB/s\u001b[0m eta \u001b[36m0:00:00\u001b[0ma \u001b[36m0:00:01\u001b[0m\n",
      "\u001b[?25hRequirement already satisfied: matplotlib!=3.6.1,>=3.4 in /usr/local/lib/python3.10/dist-packages (from seaborn) (3.8.4)\n",
      "Requirement already satisfied: numpy!=1.24.0,>=1.20 in /mnt/cgreski/.local/lib/python3.10/site-packages (from seaborn) (1.26.4)\n",
      "Requirement already satisfied: pandas>=1.2 in /mnt/cgreski/.local/lib/python3.10/site-packages (from seaborn) (2.2.1)\n",
      "Requirement already satisfied: kiwisolver>=1.3.1 in /usr/local/lib/python3.10/dist-packages (from matplotlib!=3.6.1,>=3.4->seaborn) (1.4.5)\n",
      "Requirement already satisfied: pillow>=8 in /usr/local/lib/python3.10/dist-packages (from matplotlib!=3.6.1,>=3.4->seaborn) (10.3.0)\n",
      "Requirement already satisfied: packaging>=20.0 in /usr/local/lib/python3.10/dist-packages (from matplotlib!=3.6.1,>=3.4->seaborn) (24.0)\n",
      "Requirement already satisfied: cycler>=0.10 in /usr/local/lib/python3.10/dist-packages (from matplotlib!=3.6.1,>=3.4->seaborn) (0.12.1)\n",
      "Requirement already satisfied: fonttools>=4.22.0 in /usr/local/lib/python3.10/dist-packages (from matplotlib!=3.6.1,>=3.4->seaborn) (4.51.0)\n",
      "Requirement already satisfied: pyparsing>=2.3.1 in /usr/lib/python3/dist-packages (from matplotlib!=3.6.1,>=3.4->seaborn) (2.4.7)\n",
      "Requirement already satisfied: contourpy>=1.0.1 in /usr/local/lib/python3.10/dist-packages (from matplotlib!=3.6.1,>=3.4->seaborn) (1.2.1)\n",
      "Requirement already satisfied: python-dateutil>=2.7 in /usr/local/lib/python3.10/dist-packages (from matplotlib!=3.6.1,>=3.4->seaborn) (2.9.0.post0)\n",
      "Requirement already satisfied: tzdata>=2022.7 in /mnt/cgreski/.local/lib/python3.10/site-packages (from pandas>=1.2->seaborn) (2024.1)\n",
      "Requirement already satisfied: pytz>=2020.1 in /usr/lib/python3/dist-packages (from pandas>=1.2->seaborn) (2022.1)\n",
      "Requirement already satisfied: six>=1.5 in /usr/lib/python3/dist-packages (from python-dateutil>=2.7->matplotlib!=3.6.1,>=3.4->seaborn) (1.16.0)\n",
      "Installing collected packages: seaborn\n",
      "Successfully installed seaborn-0.13.2\n"
     ]
    }
   ],
   "source": [
    "!pip install seaborn"
   ]
  },
  {
   "cell_type": "code",
   "execution_count": null,
   "id": "42f48f4e-d023-4449-8d7d-8cef4193203d",
   "metadata": {},
   "outputs": [],
   "source": []
  }
 ],
 "metadata": {
  "kernelspec": {
   "display_name": "Python 3 (ipykernel)",
   "language": "python",
   "name": "python3"
  },
  "language_info": {
   "codemirror_mode": {
    "name": "ipython",
    "version": 3
   },
   "file_extension": ".py",
   "mimetype": "text/x-python",
   "name": "python",
   "nbconvert_exporter": "python",
   "pygments_lexer": "ipython3",
   "version": "3.10.12"
  }
 },
 "nbformat": 4,
 "nbformat_minor": 5
}
